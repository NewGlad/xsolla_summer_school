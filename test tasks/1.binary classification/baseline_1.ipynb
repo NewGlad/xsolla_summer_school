{
 "cells": [
  {
   "cell_type": "code",
   "execution_count": 59,
   "metadata": {},
   "outputs": [],
   "source": [
    "import pandas as pd\n",
    "\n",
    "from sklearn.ensemble import RandomForestClassifier\n",
    "from sklearn.model_selection import cross_validate , train_test_split , StratifiedShuffleSplit\n",
    "from sklearn import   linear_model, metrics\n",
    "import math\n",
    "from sklearn.linear_model import SGDClassifier as SGD\n",
    "import numpy as np\n",
    "import matplotlib.pyplot as plt"
   ]
  },
  {
   "cell_type": "code",
   "execution_count": 60,
   "metadata": {},
   "outputs": [],
   "source": [
    "train_directory = \"data/train.csv\"\n",
    "train = pd.read_csv(train_directory, header=0 )\n",
    "train['y'] = [1 if y == 'yes' else 0 for y in train['y']]"
   ]
  },
  {
   "cell_type": "code",
   "execution_count": 61,
   "metadata": {},
   "outputs": [],
   "source": [
    "X = train.drop(['y'], axis=1)\n",
    "y = train['y']"
   ]
  },
  {
   "cell_type": "code",
   "execution_count": 62,
   "metadata": {},
   "outputs": [
    {
     "data": {
      "text/html": [
       "<div>\n",
       "<style scoped>\n",
       "    .dataframe tbody tr th:only-of-type {\n",
       "        vertical-align: middle;\n",
       "    }\n",
       "\n",
       "    .dataframe tbody tr th {\n",
       "        vertical-align: top;\n",
       "    }\n",
       "\n",
       "    .dataframe thead th {\n",
       "        text-align: right;\n",
       "    }\n",
       "</style>\n",
       "<table border=\"1\" class=\"dataframe\">\n",
       "  <thead>\n",
       "    <tr style=\"text-align: right;\">\n",
       "      <th></th>\n",
       "      <th>column</th>\n",
       "      <th>dtype</th>\n",
       "    </tr>\n",
       "  </thead>\n",
       "  <tbody>\n",
       "    <tr>\n",
       "      <th>0</th>\n",
       "      <td>age</td>\n",
       "      <td>int64</td>\n",
       "    </tr>\n",
       "    <tr>\n",
       "      <th>1</th>\n",
       "      <td>job</td>\n",
       "      <td>object</td>\n",
       "    </tr>\n",
       "    <tr>\n",
       "      <th>2</th>\n",
       "      <td>marital</td>\n",
       "      <td>object</td>\n",
       "    </tr>\n",
       "    <tr>\n",
       "      <th>3</th>\n",
       "      <td>education</td>\n",
       "      <td>object</td>\n",
       "    </tr>\n",
       "    <tr>\n",
       "      <th>4</th>\n",
       "      <td>default</td>\n",
       "      <td>object</td>\n",
       "    </tr>\n",
       "    <tr>\n",
       "      <th>5</th>\n",
       "      <td>housing</td>\n",
       "      <td>object</td>\n",
       "    </tr>\n",
       "    <tr>\n",
       "      <th>6</th>\n",
       "      <td>loan</td>\n",
       "      <td>object</td>\n",
       "    </tr>\n",
       "    <tr>\n",
       "      <th>7</th>\n",
       "      <td>contact</td>\n",
       "      <td>object</td>\n",
       "    </tr>\n",
       "    <tr>\n",
       "      <th>8</th>\n",
       "      <td>month</td>\n",
       "      <td>object</td>\n",
       "    </tr>\n",
       "    <tr>\n",
       "      <th>9</th>\n",
       "      <td>day_of_week</td>\n",
       "      <td>object</td>\n",
       "    </tr>\n",
       "    <tr>\n",
       "      <th>10</th>\n",
       "      <td>duration</td>\n",
       "      <td>int64</td>\n",
       "    </tr>\n",
       "    <tr>\n",
       "      <th>11</th>\n",
       "      <td>campaign</td>\n",
       "      <td>int64</td>\n",
       "    </tr>\n",
       "    <tr>\n",
       "      <th>12</th>\n",
       "      <td>pdays</td>\n",
       "      <td>int64</td>\n",
       "    </tr>\n",
       "    <tr>\n",
       "      <th>13</th>\n",
       "      <td>previous</td>\n",
       "      <td>int64</td>\n",
       "    </tr>\n",
       "    <tr>\n",
       "      <th>14</th>\n",
       "      <td>poutcome</td>\n",
       "      <td>object</td>\n",
       "    </tr>\n",
       "    <tr>\n",
       "      <th>15</th>\n",
       "      <td>emp.var.rate</td>\n",
       "      <td>float64</td>\n",
       "    </tr>\n",
       "    <tr>\n",
       "      <th>16</th>\n",
       "      <td>cons.price.idx</td>\n",
       "      <td>float64</td>\n",
       "    </tr>\n",
       "    <tr>\n",
       "      <th>17</th>\n",
       "      <td>cons.conf.idx</td>\n",
       "      <td>float64</td>\n",
       "    </tr>\n",
       "    <tr>\n",
       "      <th>18</th>\n",
       "      <td>euribor3m</td>\n",
       "      <td>float64</td>\n",
       "    </tr>\n",
       "    <tr>\n",
       "      <th>19</th>\n",
       "      <td>nr.employed</td>\n",
       "      <td>float64</td>\n",
       "    </tr>\n",
       "  </tbody>\n",
       "</table>\n",
       "</div>"
      ],
      "text/plain": [
       "            column    dtype\n",
       "0              age    int64\n",
       "1              job   object\n",
       "2          marital   object\n",
       "3        education   object\n",
       "4          default   object\n",
       "5          housing   object\n",
       "6             loan   object\n",
       "7          contact   object\n",
       "8            month   object\n",
       "9      day_of_week   object\n",
       "10        duration    int64\n",
       "11        campaign    int64\n",
       "12           pdays    int64\n",
       "13        previous    int64\n",
       "14        poutcome   object\n",
       "15    emp.var.rate  float64\n",
       "16  cons.price.idx  float64\n",
       "17   cons.conf.idx  float64\n",
       "18       euribor3m  float64\n",
       "19     nr.employed  float64"
      ]
     },
     "execution_count": 62,
     "metadata": {},
     "output_type": "execute_result"
    }
   ],
   "source": [
    "dtypes = []\n",
    "cat_features = []\n",
    "for idx, col in enumerate(X.columns):\n",
    "    dtype = X[col].dtype\n",
    "    dtypes.append({'column': col, 'dtype':dtype})\n",
    "    if dtype == 'O':\n",
    "        cat_features.append(idx)\n",
    "\n",
    "pd.DataFrame(dtypes)"
   ]
  },
  {
   "cell_type": "code",
   "execution_count": 63,
   "metadata": {},
   "outputs": [
    {
     "name": "stdout",
     "output_type": "stream",
     "text": [
      "Доля категориальных признаков в данных: 50%\n",
      "Самое время использовать катбуст!\n"
     ]
    }
   ],
   "source": [
    "categorial_features_rate = 100*len(cat_features)/len(dtypes)\n",
    "print(f'Доля категориальных признаков в данных: {int(categorial_features_rate)}%')\n",
    "print(\"Самое время использовать катбуст!\")\n",
    "import catboost"
   ]
  },
  {
   "cell_type": "code",
   "execution_count": 64,
   "metadata": {},
   "outputs": [
    {
     "data": {
      "text/plain": [
       "[1, 2, 3, 4, 5, 6, 7, 8, 9, 14]"
      ]
     },
     "execution_count": 64,
     "metadata": {},
     "output_type": "execute_result"
    }
   ],
   "source": [
    "cat_features"
   ]
  },
  {
   "cell_type": "code",
   "execution_count": 65,
   "metadata": {},
   "outputs": [
    {
     "data": {
      "text/plain": [
       "0    2860\n",
       "1     362\n",
       "Name: y, dtype: int64"
      ]
     },
     "execution_count": 65,
     "metadata": {},
     "output_type": "execute_result"
    }
   ],
   "source": [
    "y.value_counts()"
   ]
  },
  {
   "cell_type": "markdown",
   "metadata": {},
   "source": [
    "Видим, что выборка несбалансирована: проставим веса для классов в соотвествии с пропорцией классов"
   ]
  },
  {
   "cell_type": "code",
   "execution_count": 87,
   "metadata": {},
   "outputs": [
    {
     "name": "stdout",
     "output_type": "stream",
     "text": [
      "Mean ROC AUC: 0.8577661431064574\n"
     ]
    }
   ],
   "source": [
    "from sklearn.model_selection import StratifiedShuffleSplit\n",
    "\n",
    "sss = StratifiedShuffleSplit(n_splits=5, test_size=0.2, random_state=123)\n",
    "POSITIVE_SAMPLE_WEIGHT = 10\n",
    "\n",
    "score = []\n",
    "\n",
    "for train_index, test_index in sss.split(X, y):\n",
    "    catboost_model = catboost.CatBoostClassifier(\n",
    "        cat_features=cat_features,\n",
    "        iterations=100,\n",
    "        thread_count=8,\n",
    "        loss_function='CrossEntropy'\n",
    "    )\n",
    "\n",
    "    X_train = X.values[train_index]\n",
    "    y_train = y.values[train_index]\n",
    "    \n",
    "    X_test = X.values[test_index]\n",
    "    y_test = y.values[test_index]\n",
    "    \n",
    "    sample_weight = [POSITIVE_SAMPLE_WEIGHT if item else 1 for item in y_train]\n",
    "    \n",
    "    catboost_model.fit(\n",
    "        X_train ,\n",
    "        y_train,\n",
    "        logging_level='Silent',\n",
    "        sample_weight=sample_weight\n",
    "    )\n",
    "\n",
    "    catboost_predict = catboost_model.predict(X_test)\n",
    "    \n",
    "    score.append(\n",
    "        metrics.roc_auc_score(y_test, catboost_predict, sample_weight=[POSITIVE_SAMPLE_WEIGHT if item  else 1 for item in y_test])\n",
    "    )\n",
    "score = np.array(score)\n",
    "print(f'Mean ROC AUC: {score.mean()}')"
   ]
  },
  {
   "cell_type": "markdown",
   "metadata": {},
   "source": [
    "Старая метрика: 0.5432140700483092"
   ]
  },
  {
   "cell_type": "code",
   "execution_count": 89,
   "metadata": {},
   "outputs": [
    {
     "name": "stdout",
     "output_type": "stream",
     "text": [
      "Метрика улучшилась на 57.9%!\n"
     ]
    }
   ],
   "source": [
    "old_metric = 0.5432140700483092\n",
    "new_metric = score.mean()\n",
    "\n",
    "improvement_rate = ((new_metric-old_metric)/old_metric)*100\n",
    "\n",
    "print(f'Метрика улучшилась на {improvement_rate:.3}%!')"
   ]
  },
  {
   "cell_type": "code",
   "execution_count": 90,
   "metadata": {},
   "outputs": [
    {
     "name": "stdout",
     "output_type": "stream",
     "text": [
      "Важности признаков модели\n",
      "age:0.7826656484748102\n",
      "job:0.5905750895936358\n",
      "marital:0.9076979522827102\n",
      "education:2.950543767549\n",
      "default:2.263373058765679\n",
      "housing:1.7106466647751701\n",
      "loan:2.7794231404250365\n",
      "contact:0.885681434305319\n",
      "month:7.9731492476957655\n",
      "day_of_week:3.203547188809914\n",
      "duration:54.37868885159839\n",
      "campaign:2.8575516119706665\n",
      "pdays:0.2585134600040851\n",
      "previous:0.3141462404644101\n",
      "poutcome:2.085965019895715\n",
      "emp.var.rate:2.0091181375983735\n",
      "cons.price.idx:0.8712229570640152\n",
      "cons.conf.idx:0.2140769281129982\n",
      "euribor3m:6.290338277190442\n",
      "nr.employed:6.673075323423873\n"
     ]
    }
   ],
   "source": [
    "print('Важности признаков модели')\n",
    "for col_name, importance in zip(X.columns, catboost_model.feature_importances_):\n",
    "    print(f'{col_name}:{importance}')"
   ]
  },
  {
   "cell_type": "code",
   "execution_count": 91,
   "metadata": {},
   "outputs": [
    {
     "data": {
      "text/plain": [
       "5228.1    1268\n",
       "5099.1     656\n",
       "5191.0     599\n",
       "5195.8     300\n",
       "5076.2     119\n",
       "5017.5      77\n",
       "4963.6      73\n",
       "4991.6      71\n",
       "5008.7      45\n",
       "5023.5      13\n",
       "5176.3       1\n",
       "Name: nr.employed, dtype: int64"
      ]
     },
     "execution_count": 91,
     "metadata": {},
     "output_type": "execute_result"
    }
   ],
   "source": [
    "train['nr.employed'].value_counts()"
   ]
  },
  {
   "cell_type": "code",
   "execution_count": 94,
   "metadata": {},
   "outputs": [
    {
     "data": {
      "text/plain": [
       "0.8333333333333334"
      ]
     },
     "execution_count": 94,
     "metadata": {},
     "output_type": "execute_result"
    }
   ],
   "source": [
    "metrics.recall_score(y_test, catboost_predict, sample_weight=[10 if item  else 1 for item in y_test])"
   ]
  },
  {
   "cell_type": "code",
   "execution_count": 95,
   "metadata": {},
   "outputs": [
    {
     "data": {
      "text/plain": [
       "0.8875739644970414"
      ]
     },
     "execution_count": 95,
     "metadata": {},
     "output_type": "execute_result"
    }
   ],
   "source": [
    "metrics.precision_score(y_test, catboost_predict, sample_weight=[10 if item  else 1 for item in y_test])"
   ]
  },
  {
   "cell_type": "markdown",
   "metadata": {},
   "source": [
    "## Ответ к заданию: 0.86"
   ]
  },
  {
   "cell_type": "markdown",
   "metadata": {},
   "source": [
    "<b>напишите 3-5 действий по итогу оценки качества, которые Вы бы сделали для улучшения качества модели, если бы Вам дали на работу еще 5 рабочих дней. </b>\n",
    "\n",
    "\n",
    "Вместо тупого использования со стандартными параметрами на всех признаках можно подобрать только значашие признаки и попытаться обяснить зависимость, подобрать опитимальные параметры модели\n",
    "\n",
    "Можно попробовать найти кореллирующие признаки и объединить группу кореллирующих признаков в один\n",
    "\n",
    "Помимо этого я заметил, что некоторые числовые признаки (пример с nr.employed выше, и некоторые другие) представляют собой скорее категориальные, т.к. имеют совсем небольшое количество различающихся значений\n",
    "\n",
    "Можно попробовать сделать что-то, связанное с этим\n",
    "\n",
    "В списке важности признаков есть строчка duration:54.37868885159839, т.е. признак который имеет очень большую важность по сравнению с остальными, это можно использовать для улучшения модели\n"
   ]
  }
 ],
 "metadata": {
  "kernelspec": {
   "display_name": "Python 3",
   "language": "python",
   "name": "python3"
  },
  "language_info": {
   "codemirror_mode": {
    "name": "ipython",
    "version": 3
   },
   "file_extension": ".py",
   "mimetype": "text/x-python",
   "name": "python",
   "nbconvert_exporter": "python",
   "pygments_lexer": "ipython3",
   "version": "3.6.1"
  }
 },
 "nbformat": 4,
 "nbformat_minor": 2
}
