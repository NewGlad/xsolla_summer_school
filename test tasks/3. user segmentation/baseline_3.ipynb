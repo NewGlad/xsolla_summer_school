{
 "cells": [
  {
   "cell_type": "code",
   "execution_count": 1,
   "metadata": {},
   "outputs": [],
   "source": [
    "import time\n",
    "import numpy as np\n",
    "import pandas as pd\n",
    "from sklearn.datasets import fetch_mldata\n",
    "from sklearn.decomposition import PCA\n",
    "from sklearn.manifold import TSNE\n",
    "%matplotlib inline\n",
    "import matplotlib.pyplot as plt\n",
    "from mpl_toolkits.mplot3d import Axes3D\n",
    "import seaborn as sns\n",
    "import random"
   ]
  },
  {
   "cell_type": "code",
   "execution_count": 2,
   "metadata": {},
   "outputs": [],
   "source": [
    "segment_directory = \"data/segmentation.csv\"\n",
    "\n",
    "segment = pd.read_csv(segment_directory, header=0 )\n"
   ]
  },
  {
   "cell_type": "code",
   "execution_count": 3,
   "metadata": {},
   "outputs": [
    {
     "data": {
      "text/html": [
       "<div>\n",
       "<style scoped>\n",
       "    .dataframe tbody tr th:only-of-type {\n",
       "        vertical-align: middle;\n",
       "    }\n",
       "\n",
       "    .dataframe tbody tr th {\n",
       "        vertical-align: top;\n",
       "    }\n",
       "\n",
       "    .dataframe thead th {\n",
       "        text-align: right;\n",
       "    }\n",
       "</style>\n",
       "<table border=\"1\" class=\"dataframe\">\n",
       "  <thead>\n",
       "    <tr style=\"text-align: right;\">\n",
       "      <th></th>\n",
       "      <th>CustomerId</th>\n",
       "      <th>Monetary</th>\n",
       "      <th>Recency</th>\n",
       "      <th>Frequency</th>\n",
       "      <th>factor_1</th>\n",
       "      <th>factor_2</th>\n",
       "      <th>factor_3</th>\n",
       "      <th>factor_4</th>\n",
       "    </tr>\n",
       "  </thead>\n",
       "  <tbody>\n",
       "    <tr>\n",
       "      <th>0</th>\n",
       "      <td>8b4f8c66-7589-4734-8ada-2d42f60540ab</td>\n",
       "      <td>100.40</td>\n",
       "      <td>2019-06-04</td>\n",
       "      <td>6</td>\n",
       "      <td>0.35</td>\n",
       "      <td>0.08</td>\n",
       "      <td>0.609740</td>\n",
       "      <td>0.949383</td>\n",
       "    </tr>\n",
       "    <tr>\n",
       "      <th>1</th>\n",
       "      <td>2151b2a2-8867-4986-9e00-449c2b4f89e9</td>\n",
       "      <td>170.00</td>\n",
       "      <td>2019-05-25</td>\n",
       "      <td>4</td>\n",
       "      <td>0.66</td>\n",
       "      <td>0.16</td>\n",
       "      <td>0.942272</td>\n",
       "      <td>0.479846</td>\n",
       "    </tr>\n",
       "    <tr>\n",
       "      <th>2</th>\n",
       "      <td>3111db79-6721-4ec0-82b1-30b810649c5e</td>\n",
       "      <td>70.75</td>\n",
       "      <td>2019-05-25</td>\n",
       "      <td>6</td>\n",
       "      <td>0.92</td>\n",
       "      <td>0.20</td>\n",
       "      <td>0.323030</td>\n",
       "      <td>0.007076</td>\n",
       "    </tr>\n",
       "    <tr>\n",
       "      <th>3</th>\n",
       "      <td>9cb76426-cc5d-4fa3-88bc-b92314b9f4e8</td>\n",
       "      <td>75.00</td>\n",
       "      <td>2019-03-20</td>\n",
       "      <td>10</td>\n",
       "      <td>0.35</td>\n",
       "      <td>0.78</td>\n",
       "      <td>0.876833</td>\n",
       "      <td>0.088974</td>\n",
       "    </tr>\n",
       "    <tr>\n",
       "      <th>4</th>\n",
       "      <td>5d86caeb-2d53-44a7-b379-7f15f06ca821</td>\n",
       "      <td>94.51</td>\n",
       "      <td>2019-04-10</td>\n",
       "      <td>5</td>\n",
       "      <td>0.51</td>\n",
       "      <td>0.44</td>\n",
       "      <td>0.912099</td>\n",
       "      <td>0.206194</td>\n",
       "    </tr>\n",
       "  </tbody>\n",
       "</table>\n",
       "</div>"
      ],
      "text/plain": [
       "                             CustomerId  Monetary     Recency  Frequency  \\\n",
       "0  8b4f8c66-7589-4734-8ada-2d42f60540ab    100.40  2019-06-04          6   \n",
       "1  2151b2a2-8867-4986-9e00-449c2b4f89e9    170.00  2019-05-25          4   \n",
       "2  3111db79-6721-4ec0-82b1-30b810649c5e     70.75  2019-05-25          6   \n",
       "3  9cb76426-cc5d-4fa3-88bc-b92314b9f4e8     75.00  2019-03-20         10   \n",
       "4  5d86caeb-2d53-44a7-b379-7f15f06ca821     94.51  2019-04-10          5   \n",
       "\n",
       "   factor_1  factor_2  factor_3  factor_4  \n",
       "0      0.35      0.08  0.609740  0.949383  \n",
       "1      0.66      0.16  0.942272  0.479846  \n",
       "2      0.92      0.20  0.323030  0.007076  \n",
       "3      0.35      0.78  0.876833  0.088974  \n",
       "4      0.51      0.44  0.912099  0.206194  "
      ]
     },
     "execution_count": 3,
     "metadata": {},
     "output_type": "execute_result"
    }
   ],
   "source": [
    "segment.head()"
   ]
  },
  {
   "cell_type": "markdown",
   "metadata": {},
   "source": [
    "Сконвертируем даты из колонки Recency в числа (Unix Time)"
   ]
  },
  {
   "cell_type": "code",
   "execution_count": 4,
   "metadata": {},
   "outputs": [],
   "source": [
    "import datetime\n",
    "import time\n",
    "segment['Recency'] = [time.mktime(datetime.datetime.strptime(item, \"%Y-%m-%d\").timetuple()) for item in segment['Recency']]"
   ]
  },
  {
   "cell_type": "code",
   "execution_count": 5,
   "metadata": {},
   "outputs": [
    {
     "data": {
      "text/html": [
       "<div>\n",
       "<style scoped>\n",
       "    .dataframe tbody tr th:only-of-type {\n",
       "        vertical-align: middle;\n",
       "    }\n",
       "\n",
       "    .dataframe tbody tr th {\n",
       "        vertical-align: top;\n",
       "    }\n",
       "\n",
       "    .dataframe thead th {\n",
       "        text-align: right;\n",
       "    }\n",
       "</style>\n",
       "<table border=\"1\" class=\"dataframe\">\n",
       "  <thead>\n",
       "    <tr style=\"text-align: right;\">\n",
       "      <th></th>\n",
       "      <th>Monetary</th>\n",
       "      <th>Recency</th>\n",
       "      <th>Frequency</th>\n",
       "      <th>factor_1</th>\n",
       "      <th>factor_2</th>\n",
       "      <th>factor_3</th>\n",
       "      <th>factor_4</th>\n",
       "    </tr>\n",
       "  </thead>\n",
       "  <tbody>\n",
       "    <tr>\n",
       "      <th>0</th>\n",
       "      <td>100.40</td>\n",
       "      <td>1.559588e+09</td>\n",
       "      <td>6</td>\n",
       "      <td>0.35</td>\n",
       "      <td>0.08</td>\n",
       "      <td>0.609740</td>\n",
       "      <td>0.949383</td>\n",
       "    </tr>\n",
       "    <tr>\n",
       "      <th>1</th>\n",
       "      <td>170.00</td>\n",
       "      <td>1.558724e+09</td>\n",
       "      <td>4</td>\n",
       "      <td>0.66</td>\n",
       "      <td>0.16</td>\n",
       "      <td>0.942272</td>\n",
       "      <td>0.479846</td>\n",
       "    </tr>\n",
       "    <tr>\n",
       "      <th>2</th>\n",
       "      <td>70.75</td>\n",
       "      <td>1.558724e+09</td>\n",
       "      <td>6</td>\n",
       "      <td>0.92</td>\n",
       "      <td>0.20</td>\n",
       "      <td>0.323030</td>\n",
       "      <td>0.007076</td>\n",
       "    </tr>\n",
       "    <tr>\n",
       "      <th>3</th>\n",
       "      <td>75.00</td>\n",
       "      <td>1.553022e+09</td>\n",
       "      <td>10</td>\n",
       "      <td>0.35</td>\n",
       "      <td>0.78</td>\n",
       "      <td>0.876833</td>\n",
       "      <td>0.088974</td>\n",
       "    </tr>\n",
       "    <tr>\n",
       "      <th>4</th>\n",
       "      <td>94.51</td>\n",
       "      <td>1.554836e+09</td>\n",
       "      <td>5</td>\n",
       "      <td>0.51</td>\n",
       "      <td>0.44</td>\n",
       "      <td>0.912099</td>\n",
       "      <td>0.206194</td>\n",
       "    </tr>\n",
       "  </tbody>\n",
       "</table>\n",
       "</div>"
      ],
      "text/plain": [
       "   Monetary       Recency  Frequency  factor_1  factor_2  factor_3  factor_4\n",
       "0    100.40  1.559588e+09          6      0.35      0.08  0.609740  0.949383\n",
       "1    170.00  1.558724e+09          4      0.66      0.16  0.942272  0.479846\n",
       "2     70.75  1.558724e+09          6      0.92      0.20  0.323030  0.007076\n",
       "3     75.00  1.553022e+09         10      0.35      0.78  0.876833  0.088974\n",
       "4     94.51  1.554836e+09          5      0.51      0.44  0.912099  0.206194"
      ]
     },
     "execution_count": 5,
     "metadata": {},
     "output_type": "execute_result"
    }
   ],
   "source": [
    "# выкинул колонку с CustomerId, чтобы не мешалась\n",
    "data = segment.drop(columns='CustomerId')\n",
    "data.head()"
   ]
  },
  {
   "cell_type": "code",
   "execution_count": 6,
   "metadata": {},
   "outputs": [],
   "source": [
    "from sklearn.linear_model import HuberRegressor, LinearRegression\n",
    "from sklearn.preprocessing import normalize\n",
    "from sklearn.model_selection import train_test_split, cross_val_score\n",
    "from sklearn.model_selection import KFold\n",
    "import sklearn.metrics"
   ]
  },
  {
   "cell_type": "code",
   "execution_count": 7,
   "metadata": {},
   "outputs": [],
   "source": [
    "X = data.drop(columns=['Monetary'])\n",
    "X = pd.DataFrame(normalize(X), columns=X.columns)\n",
    "y = data['Monetary']\n",
    "#y = np.log2(y+1)"
   ]
  },
  {
   "cell_type": "code",
   "execution_count": 8,
   "metadata": {},
   "outputs": [
    {
     "data": {
      "text/plain": [
       "LinearRegression(copy_X=True, fit_intercept=True, n_jobs=1, normalize=False)"
      ]
     },
     "execution_count": 8,
     "metadata": {},
     "output_type": "execute_result"
    }
   ],
   "source": [
    "hr = LinearRegression()\n",
    "hr.fit(X, y)"
   ]
  },
  {
   "cell_type": "code",
   "execution_count": 9,
   "metadata": {},
   "outputs": [
    {
     "data": {
      "text/plain": [
       "17465.6116896625"
      ]
     },
     "execution_count": 9,
     "metadata": {},
     "output_type": "execute_result"
    }
   ],
   "source": [
    "sklearn.metrics.mean_squared_error(y, hr.predict(X))"
   ]
  },
  {
   "cell_type": "markdown",
   "metadata": {},
   "source": [
    "Получили ошибку на предсказании, основанном на всех факторах.\n",
    "\n",
    "Давайте попробуем выкидывать по одному фактору и оценивать ошибку предсказания, таким образом делая вывод о важности каждого фактора в отдельности"
   ]
  },
  {
   "cell_type": "code",
   "execution_count": 10,
   "metadata": {},
   "outputs": [
    {
     "name": "stdout",
     "output_type": "stream",
     "text": [
      "Recency 16299.530256116874\n",
      "Frequency 45008.7376896625\n",
      "factor_1 17484.6703296625\n",
      "factor_2 17484.366329662498\n",
      "factor_3 17383.1135296625\n",
      "factor_4 17383.958169662503\n"
     ]
    }
   ],
   "source": [
    "feature_importances_list = []\n",
    "for dropped_factor in X.columns:\n",
    "    kf = KFold(n_splits=10)\n",
    "    sub_X = X.drop(columns=[dropped_factor]).values\n",
    "    scores = list()\n",
    "    for train_idx, test_idx in kf.split(sub_X):\n",
    "        X_train = sub_X[train_idx]\n",
    "        X_test = sub_X[test_idx]\n",
    "        \n",
    "        y_train = y[train_idx]\n",
    "        y_test = y[test_idx]\n",
    "        \n",
    "        model = LinearRegression()\n",
    "    \n",
    "        model.fit(X_train, y_train)\n",
    "        y_pred = model.predict(X_test)\n",
    "        \n",
    "        scores.append(sklearn.metrics.mean_squared_error(y_test, y_pred))\n",
    "    \n",
    "    scores = np.array(scores).mean()\n",
    "    print(dropped_factor, scores)\n",
    "    \n",
    "    feature_importances_list.append(\n",
    "        (dropped_factor, scores)\n",
    "    )"
   ]
  },
  {
   "cell_type": "code",
   "execution_count": 11,
   "metadata": {},
   "outputs": [
    {
     "data": {
      "image/png": "[encoded data removed]",
      "text/plain": [
       "<Figure size 432x288 with 1 Axes>"
      ]
     },
     "metadata": {
      "needs_background": "light"
     },
     "output_type": "display_data"
    }
   ],
   "source": [
    "fig, ax = plt.subplots()\n",
    "\n",
    "factors, values = zip(*feature_importances_list)\n",
    "ax.bar(factors, values)\n",
    "\n",
    "ax.set_ylabel('Ошибка без признака')\n",
    "ax.set_title('Ошибка модели при исключении признака: чем выше - тем важнее признак')\n",
    "\n",
    "plt.show()"
   ]
  },
  {
   "cell_type": "code",
   "execution_count": 12,
   "metadata": {},
   "outputs": [
    {
     "data": {
      "text/html": [
       "<div>\n",
       "<style scoped>\n",
       "    .dataframe tbody tr th:only-of-type {\n",
       "        vertical-align: middle;\n",
       "    }\n",
       "\n",
       "    .dataframe tbody tr th {\n",
       "        vertical-align: top;\n",
       "    }\n",
       "\n",
       "    .dataframe thead th {\n",
       "        text-align: right;\n",
       "    }\n",
       "</style>\n",
       "<table border=\"1\" class=\"dataframe\">\n",
       "  <thead>\n",
       "    <tr style=\"text-align: right;\">\n",
       "      <th></th>\n",
       "      <th>Monetary</th>\n",
       "      <th>Recency</th>\n",
       "      <th>Frequency</th>\n",
       "      <th>factor_1</th>\n",
       "      <th>factor_2</th>\n",
       "      <th>factor_3</th>\n",
       "      <th>factor_4</th>\n",
       "    </tr>\n",
       "  </thead>\n",
       "  <tbody>\n",
       "    <tr>\n",
       "      <th>count</th>\n",
       "      <td>16000.000000</td>\n",
       "      <td>1.600000e+04</td>\n",
       "      <td>16000.000000</td>\n",
       "      <td>16000.000000</td>\n",
       "      <td>16000.000000</td>\n",
       "      <td>16000.000000</td>\n",
       "      <td>16000.000000</td>\n",
       "    </tr>\n",
       "    <tr>\n",
       "      <th>mean</th>\n",
       "      <td>129.972264</td>\n",
       "      <td>1.555538e+09</td>\n",
       "      <td>3.950687</td>\n",
       "      <td>0.500008</td>\n",
       "      <td>0.497864</td>\n",
       "      <td>0.495451</td>\n",
       "      <td>0.498427</td>\n",
       "    </tr>\n",
       "    <tr>\n",
       "      <th>std</th>\n",
       "      <td>179.809263</td>\n",
       "      <td>4.426856e+06</td>\n",
       "      <td>5.189864</td>\n",
       "      <td>0.290144</td>\n",
       "      <td>0.291103</td>\n",
       "      <td>0.289034</td>\n",
       "      <td>0.288478</td>\n",
       "    </tr>\n",
       "    <tr>\n",
       "      <th>min</th>\n",
       "      <td>0.000000</td>\n",
       "      <td>1.546283e+09</td>\n",
       "      <td>1.000000</td>\n",
       "      <td>0.000000</td>\n",
       "      <td>0.000000</td>\n",
       "      <td>0.000037</td>\n",
       "      <td>0.000033</td>\n",
       "    </tr>\n",
       "    <tr>\n",
       "      <th>25%</th>\n",
       "      <td>20.910000</td>\n",
       "      <td>1.552590e+09</td>\n",
       "      <td>1.000000</td>\n",
       "      <td>0.250000</td>\n",
       "      <td>0.240000</td>\n",
       "      <td>0.242545</td>\n",
       "      <td>0.248739</td>\n",
       "    </tr>\n",
       "    <tr>\n",
       "      <th>50%</th>\n",
       "      <td>59.275000</td>\n",
       "      <td>1.556305e+09</td>\n",
       "      <td>2.000000</td>\n",
       "      <td>0.500000</td>\n",
       "      <td>0.500000</td>\n",
       "      <td>0.496410</td>\n",
       "      <td>0.498833</td>\n",
       "    </tr>\n",
       "    <tr>\n",
       "      <th>75%</th>\n",
       "      <td>170.000000</td>\n",
       "      <td>1.559934e+09</td>\n",
       "      <td>5.000000</td>\n",
       "      <td>0.750000</td>\n",
       "      <td>0.750000</td>\n",
       "      <td>0.744476</td>\n",
       "      <td>0.747424</td>\n",
       "    </tr>\n",
       "    <tr>\n",
       "      <th>max</th>\n",
       "      <td>3040.000000</td>\n",
       "      <td>1.560625e+09</td>\n",
       "      <td>111.000000</td>\n",
       "      <td>1.000000</td>\n",
       "      <td>1.000000</td>\n",
       "      <td>0.999996</td>\n",
       "      <td>0.999943</td>\n",
       "    </tr>\n",
       "  </tbody>\n",
       "</table>\n",
       "</div>"
      ],
      "text/plain": [
       "           Monetary       Recency     Frequency      factor_1      factor_2  \\\n",
       "count  16000.000000  1.600000e+04  16000.000000  16000.000000  16000.000000   \n",
       "mean     129.972264  1.555538e+09      3.950687      0.500008      0.497864   \n",
       "std      179.809263  4.426856e+06      5.189864      0.290144      0.291103   \n",
       "min        0.000000  1.546283e+09      1.000000      0.000000      0.000000   \n",
       "25%       20.910000  1.552590e+09      1.000000      0.250000      0.240000   \n",
       "50%       59.275000  1.556305e+09      2.000000      0.500000      0.500000   \n",
       "75%      170.000000  1.559934e+09      5.000000      0.750000      0.750000   \n",
       "max     3040.000000  1.560625e+09    111.000000      1.000000      1.000000   \n",
       "\n",
       "           factor_3      factor_4  \n",
       "count  16000.000000  16000.000000  \n",
       "mean       0.495451      0.498427  \n",
       "std        0.289034      0.288478  \n",
       "min        0.000037      0.000033  \n",
       "25%        0.242545      0.248739  \n",
       "50%        0.496410      0.498833  \n",
       "75%        0.744476      0.747424  \n",
       "max        0.999996      0.999943  "
      ]
     },
     "execution_count": 12,
     "metadata": {},
     "output_type": "execute_result"
    }
   ],
   "source": [
    "data.describe()"
   ]
  },
  {
   "cell_type": "markdown",
   "metadata": {},
   "source": [
    "У всех факторов одинаковое среднее и отклонение"
   ]
  },
  {
   "cell_type": "code",
   "execution_count": 13,
   "metadata": {},
   "outputs": [
    {
     "name": "stdout",
     "output_type": "stream",
     "text": [
      "Confidence that Monetary has uniform distribution = 0.0\n",
      "Confidence that Recency has uniform distribution = 0.0\n",
      "Confidence that Frequency has uniform distribution = 0.0\n",
      "Confidence that factor_1 has uniform distribution = 0.03644380222640397\n",
      "Confidence that factor_2 has uniform distribution = 0.0030128981501947945\n",
      "Confidence that factor_3 has uniform distribution = 0.14911056132898534\n",
      "Confidence that factor_4 has uniform distribution = 0.8862015898002251\n"
     ]
    }
   ],
   "source": [
    "from scipy import stats\n",
    "tested_distribution = 'uniform'\n",
    "for feature in data.columns:\n",
    "    result = stats.kstest(data[feature], tested_distribution)\n",
    "\n",
    "    print(f'Confidence that {feature} has {tested_distribution} distribution = {result.pvalue}')\n",
    "    "
   ]
  },
  {
   "cell_type": "code",
   "execution_count": 14,
   "metadata": {
    "scrolled": false
   },
   "outputs": [
    {
     "data": {
      "image/png": "[encoded data removed]",
      "text/plain": [
       "<Figure size 432x288 with 1 Axes>"
      ]
     },
     "metadata": {
      "needs_background": "light"
     },
     "output_type": "display_data"
    },
    {
     "data": {
      "image/png": "[encoded data removed]",
      "text/plain": [
       "<Figure size 432x288 with 1 Axes>"
      ]
     },
     "metadata": {
      "needs_background": "light"
     },
     "output_type": "display_data"
    },
    {
     "data": {
      "image/png": "[encoded data removed]",
      "text/plain": [
       "<Figure size 432x288 with 1 Axes>"
      ]
     },
     "metadata": {
      "needs_background": "light"
     },
     "output_type": "display_data"
    },
    {
     "data": {
      "image/png": "[encoded data removed]",
      "text/plain": [
       "<Figure size 432x288 with 1 Axes>"
      ]
     },
     "metadata": {
      "needs_background": "light"
     },
     "output_type": "display_data"
    },
    {
     "data": {
      "image/png": "[encoded data removed]",
      "text/plain": [
       "<Figure size 432x288 with 1 Axes>"
      ]
     },
     "metadata": {
      "needs_background": "light"
     },
     "output_type": "display_data"
    },
    {
     "data": {
      "image/png": "[encoded data removed]",
      "text/plain": [
       "<Figure size 432x288 with 1 Axes>"
      ]
     },
     "metadata": {
      "needs_background": "light"
     },
     "output_type": "display_data"
    },
    {
     "data": {
      "image/png": "[encoded data removed]",
      "text/plain": [
       "<Figure size 432x288 with 1 Axes>"
      ]
     },
     "metadata": {
      "needs_background": "light"
     },
     "output_type": "display_data"
    }
   ],
   "source": [
    "for feature in data.columns:\n",
    "    y_ = data[feature]\n",
    "    SR_y = pd.Series(y_, name=\"y_ (Target Vector Distribution)\")\n",
    "    fig, ax = plt.subplots()\n",
    "    sns.distplot(SR_y, bins=25, color=\"g\", ax=ax)\n",
    "    plt.title(f\"{feature} distribution\")\n",
    "    plt.show()"
   ]
  },
  {
   "cell_type": "markdown",
   "metadata": {},
   "source": [
    "Всё равно, кажется, что все колонки factor_... это что-то сгенерированное на равномерном распределении, а не реальные данные 0_о"
   ]
  },
  {
   "cell_type": "code",
   "execution_count": 19,
   "metadata": {},
   "outputs": [],
   "source": [
    "import scipy\n",
    "import itertools"
   ]
  },
  {
   "cell_type": "code",
   "execution_count": 20,
   "metadata": {},
   "outputs": [
    {
     "data": {
      "text/plain": [
       "[('Recency', 'Frequency'),\n",
       " ('Recency', 'factor_1'),\n",
       " ('Recency', 'factor_2'),\n",
       " ('Recency', 'factor_3'),\n",
       " ('Recency', 'factor_4'),\n",
       " ('Frequency', 'factor_1'),\n",
       " ('Frequency', 'factor_2'),\n",
       " ('Frequency', 'factor_3'),\n",
       " ('Frequency', 'factor_4'),\n",
       " ('factor_1', 'factor_2'),\n",
       " ('factor_1', 'factor_3'),\n",
       " ('factor_1', 'factor_4'),\n",
       " ('factor_2', 'factor_3'),\n",
       " ('factor_2', 'factor_4'),\n",
       " ('factor_3', 'factor_4')]"
      ]
     },
     "execution_count": 20,
     "metadata": {},
     "output_type": "execute_result"
    }
   ],
   "source": [
    "list(itertools.combinations(X.columns, 2))"
   ]
  },
  {
   "cell_type": "code",
   "execution_count": 21,
   "metadata": {},
   "outputs": [
    {
     "data": {
      "text/html": [
       "<div>\n",
       "<style scoped>\n",
       "    .dataframe tbody tr th:only-of-type {\n",
       "        vertical-align: middle;\n",
       "    }\n",
       "\n",
       "    .dataframe tbody tr th {\n",
       "        vertical-align: top;\n",
       "    }\n",
       "\n",
       "    .dataframe thead th {\n",
       "        text-align: right;\n",
       "    }\n",
       "</style>\n",
       "<table border=\"1\" class=\"dataframe\">\n",
       "  <thead>\n",
       "    <tr style=\"text-align: right;\">\n",
       "      <th></th>\n",
       "      <th>confidence</th>\n",
       "      <th>corellation</th>\n",
       "      <th>f1</th>\n",
       "      <th>f2</th>\n",
       "      <th>p-value</th>\n",
       "    </tr>\n",
       "  </thead>\n",
       "  <tbody>\n",
       "    <tr>\n",
       "      <th>5</th>\n",
       "      <td>False</td>\n",
       "      <td>0.000180</td>\n",
       "      <td>Frequency</td>\n",
       "      <td>factor_1</td>\n",
       "      <td>9.818785e-01</td>\n",
       "    </tr>\n",
       "    <tr>\n",
       "      <th>6</th>\n",
       "      <td>False</td>\n",
       "      <td>-0.000392</td>\n",
       "      <td>Frequency</td>\n",
       "      <td>factor_2</td>\n",
       "      <td>9.604130e-01</td>\n",
       "    </tr>\n",
       "    <tr>\n",
       "      <th>10</th>\n",
       "      <td>False</td>\n",
       "      <td>-0.000411</td>\n",
       "      <td>factor_1</td>\n",
       "      <td>factor_3</td>\n",
       "      <td>9.585140e-01</td>\n",
       "    </tr>\n",
       "    <tr>\n",
       "      <th>4</th>\n",
       "      <td>False</td>\n",
       "      <td>0.001852</td>\n",
       "      <td>Recency</td>\n",
       "      <td>factor_4</td>\n",
       "      <td>8.147657e-01</td>\n",
       "    </tr>\n",
       "    <tr>\n",
       "      <th>1</th>\n",
       "      <td>False</td>\n",
       "      <td>-0.002042</td>\n",
       "      <td>Recency</td>\n",
       "      <td>factor_1</td>\n",
       "      <td>7.961488e-01</td>\n",
       "    </tr>\n",
       "    <tr>\n",
       "      <th>14</th>\n",
       "      <td>False</td>\n",
       "      <td>-0.003524</td>\n",
       "      <td>factor_3</td>\n",
       "      <td>factor_4</td>\n",
       "      <td>6.558328e-01</td>\n",
       "    </tr>\n",
       "    <tr>\n",
       "      <th>8</th>\n",
       "      <td>False</td>\n",
       "      <td>0.005112</td>\n",
       "      <td>Frequency</td>\n",
       "      <td>factor_4</td>\n",
       "      <td>5.179365e-01</td>\n",
       "    </tr>\n",
       "    <tr>\n",
       "      <th>9</th>\n",
       "      <td>False</td>\n",
       "      <td>-0.005630</td>\n",
       "      <td>factor_1</td>\n",
       "      <td>factor_2</td>\n",
       "      <td>4.764362e-01</td>\n",
       "    </tr>\n",
       "    <tr>\n",
       "      <th>7</th>\n",
       "      <td>False</td>\n",
       "      <td>0.006420</td>\n",
       "      <td>Frequency</td>\n",
       "      <td>factor_3</td>\n",
       "      <td>4.167593e-01</td>\n",
       "    </tr>\n",
       "    <tr>\n",
       "      <th>12</th>\n",
       "      <td>False</td>\n",
       "      <td>0.006977</td>\n",
       "      <td>factor_2</td>\n",
       "      <td>factor_3</td>\n",
       "      <td>3.775266e-01</td>\n",
       "    </tr>\n",
       "    <tr>\n",
       "      <th>2</th>\n",
       "      <td>False</td>\n",
       "      <td>0.008931</td>\n",
       "      <td>Recency</td>\n",
       "      <td>factor_2</td>\n",
       "      <td>2.586570e-01</td>\n",
       "    </tr>\n",
       "    <tr>\n",
       "      <th>13</th>\n",
       "      <td>False</td>\n",
       "      <td>0.011048</td>\n",
       "      <td>factor_2</td>\n",
       "      <td>factor_4</td>\n",
       "      <td>1.622925e-01</td>\n",
       "    </tr>\n",
       "    <tr>\n",
       "      <th>11</th>\n",
       "      <td>False</td>\n",
       "      <td>-0.011337</td>\n",
       "      <td>factor_1</td>\n",
       "      <td>factor_4</td>\n",
       "      <td>1.515739e-01</td>\n",
       "    </tr>\n",
       "    <tr>\n",
       "      <th>3</th>\n",
       "      <td>False</td>\n",
       "      <td>-0.012122</td>\n",
       "      <td>Recency</td>\n",
       "      <td>factor_3</td>\n",
       "      <td>1.252000e-01</td>\n",
       "    </tr>\n",
       "    <tr>\n",
       "      <th>0</th>\n",
       "      <td>True</td>\n",
       "      <td>0.250237</td>\n",
       "      <td>Recency</td>\n",
       "      <td>Frequency</td>\n",
       "      <td>5.752697e-227</td>\n",
       "    </tr>\n",
       "  </tbody>\n",
       "</table>\n",
       "</div>"
      ],
      "text/plain": [
       "    confidence  corellation         f1         f2        p-value\n",
       "5        False     0.000180  Frequency   factor_1   9.818785e-01\n",
       "6        False    -0.000392  Frequency   factor_2   9.604130e-01\n",
       "10       False    -0.000411   factor_1   factor_3   9.585140e-01\n",
       "4        False     0.001852    Recency   factor_4   8.147657e-01\n",
       "1        False    -0.002042    Recency   factor_1   7.961488e-01\n",
       "14       False    -0.003524   factor_3   factor_4   6.558328e-01\n",
       "8        False     0.005112  Frequency   factor_4   5.179365e-01\n",
       "9        False    -0.005630   factor_1   factor_2   4.764362e-01\n",
       "7        False     0.006420  Frequency   factor_3   4.167593e-01\n",
       "12       False     0.006977   factor_2   factor_3   3.775266e-01\n",
       "2        False     0.008931    Recency   factor_2   2.586570e-01\n",
       "13       False     0.011048   factor_2   factor_4   1.622925e-01\n",
       "11       False    -0.011337   factor_1   factor_4   1.515739e-01\n",
       "3        False    -0.012122    Recency   factor_3   1.252000e-01\n",
       "0         True     0.250237    Recency  Frequency  5.752697e-227"
      ]
     },
     "execution_count": 21,
     "metadata": {},
     "output_type": "execute_result"
    }
   ],
   "source": [
    "correlations = []\n",
    "for f1, f2 in itertools.combinations(X.columns, 2):\n",
    "    correlation, p = scipy.stats.pearsonr(data[f1], data[f2])\n",
    "    correlations.append({\n",
    "        'f1': f1,\n",
    "        'f2': f2,\n",
    "        'corellation': correlation,\n",
    "        'p-value': p,\n",
    "        'confidence': p < 0.05\n",
    "    })\n",
    "correlations = pd.DataFrame(correlations)\n",
    "correlations.reindex(correlations.corellation.abs().sort_values().index)"
   ]
  },
  {
   "cell_type": "markdown",
   "metadata": {},
   "source": [
    "Зависимостей между переменными тоже нет :("
   ]
  },
  {
   "cell_type": "code",
   "execution_count": 22,
   "metadata": {},
   "outputs": [],
   "source": [
    "from sklearn.cluster import KMeans\n",
    "scores = []\n",
    "for n in range(2, 15):\n",
    "    knn = KMeans(n_clusters=n, algorithm='full', n_jobs=-1)\n",
    "    knn.fit(data)\n",
    "    scores.append(\n",
    "        (n, knn.inertia_)\n",
    "    )"
   ]
  },
  {
   "cell_type": "markdown",
   "metadata": {},
   "source": [
    "K для kNN следует выбирать такой, на котором идёт существенное снижение расстояния от объектов кластера до соответсвующего центроида "
   ]
  },
  {
   "cell_type": "code",
   "execution_count": 23,
   "metadata": {},
   "outputs": [
    {
     "data": {
      "image/png": "[encoded data removed]",
      "text/plain": [
       "<Figure size 432x288 with 1 Axes>"
      ]
     },
     "metadata": {
      "needs_background": "light"
     },
     "output_type": "display_data"
    }
   ],
   "source": [
    "fig, ax = plt.subplots()\n",
    "\n",
    "factors, values = zip(*scores)\n",
    "ax.bar(factors, values)\n",
    "\n",
    "ax.set_title('Расстояние до центроида в зависимости от k')\n",
    "\n",
    "plt.show()"
   ]
  },
  {
   "cell_type": "markdown",
   "metadata": {},
   "source": [
    "Соотвественно, выбираем k = 3"
   ]
  },
  {
   "cell_type": "code",
   "execution_count": 24,
   "metadata": {},
   "outputs": [
    {
     "data": {
      "text/plain": [
       "KMeans(algorithm='full', copy_x=True, init='k-means++', max_iter=300,\n",
       "    n_clusters=3, n_init=10, n_jobs=-1, precompute_distances='auto',\n",
       "    random_state=None, tol=0.0001, verbose=0)"
      ]
     },
     "execution_count": 24,
     "metadata": {},
     "output_type": "execute_result"
    }
   ],
   "source": [
    "knn = KMeans(n_clusters=3, algorithm='full', n_jobs=-1)\n",
    "knn.fit(data)"
   ]
  },
  {
   "cell_type": "code",
   "execution_count": 25,
   "metadata": {},
   "outputs": [],
   "source": [
    "clusters = knn.predict(data)\n",
    "data['cluster'] = clusters"
   ]
  },
  {
   "cell_type": "markdown",
   "metadata": {},
   "source": [
    "Превратим UnixTime обратнов в datetime"
   ]
  },
  {
   "cell_type": "code",
   "execution_count": 26,
   "metadata": {},
   "outputs": [],
   "source": [
    "data['Recency'] = [datetime.datetime.fromtimestamp(time) for time in data['Recency']]"
   ]
  },
  {
   "cell_type": "markdown",
   "metadata": {},
   "source": [
    "Посмотрим на время последнего платежа каждого из кластеров:"
   ]
  },
  {
   "cell_type": "code",
   "execution_count": 27,
   "metadata": {},
   "outputs": [
    {
     "data": {
      "text/plain": [
       "2019-03-22    302\n",
       "2019-03-15    266\n",
       "2019-04-12    246\n",
       "2019-03-23    226\n",
       "2019-03-24    179\n",
       "2019-03-16    165\n",
       "2019-04-13    165\n",
       "2019-04-14    161\n",
       "2019-03-12    153\n",
       "2019-03-09    151\n",
       "Name: Recency, dtype: int64"
      ]
     },
     "execution_count": 27,
     "metadata": {},
     "output_type": "execute_result"
    }
   ],
   "source": [
    "data[data['cluster'] == 0]['Recency'].value_counts()[:10]"
   ]
  },
  {
   "cell_type": "code",
   "execution_count": 28,
   "metadata": {},
   "outputs": [
    {
     "data": {
      "text/plain": [
       "2019-06-14    686\n",
       "2019-06-15    658\n",
       "2019-06-09    629\n",
       "2019-06-16    429\n",
       "2019-06-08    402\n",
       "2019-06-07    398\n",
       "2019-06-12    344\n",
       "2019-06-13    311\n",
       "2019-06-10    305\n",
       "2019-06-11    297\n",
       "Name: Recency, dtype: int64"
      ]
     },
     "execution_count": 28,
     "metadata": {},
     "output_type": "execute_result"
    }
   ],
   "source": [
    "data[data['cluster'] == 1]['Recency'].value_counts()[:10]"
   ]
  },
  {
   "cell_type": "code",
   "execution_count": 29,
   "metadata": {},
   "outputs": [
    {
     "data": {
      "text/plain": [
       "2019-01-05    187\n",
       "2019-01-04    176\n",
       "2019-01-26    153\n",
       "2019-01-25    147\n",
       "2019-01-06    122\n",
       "2019-01-27    117\n",
       "2019-01-07     86\n",
       "2019-02-16     76\n",
       "2019-02-15     75\n",
       "2019-02-20     73\n",
       "Name: Recency, dtype: int64"
      ]
     },
     "execution_count": 29,
     "metadata": {},
     "output_type": "execute_result"
    }
   ],
   "source": [
    "data[data['cluster'] == 2]['Recency'].value_counts()[:10]"
   ]
  },
  {
   "cell_type": "markdown",
   "metadata": {},
   "source": [
    "Видим, что действительно, время последнего платежа действительно значимо отличается в каждом из кластеров:\n",
    "\n",
    "В первом кластере платежи за март и апрель\n",
    "\n",
    "Во втором - июнь\n",
    "\n",
    "В третьем - январь и февраль"
   ]
  },
  {
   "cell_type": "markdown",
   "metadata": {},
   "source": [
    "Посмотрим на статистики данные разных кластеров"
   ]
  },
  {
   "cell_type": "code",
   "execution_count": 33,
   "metadata": {},
   "outputs": [
    {
     "data": {
      "text/html": [
       "<div>\n",
       "<style scoped>\n",
       "    .dataframe tbody tr th:only-of-type {\n",
       "        vertical-align: middle;\n",
       "    }\n",
       "\n",
       "    .dataframe tbody tr th {\n",
       "        vertical-align: top;\n",
       "    }\n",
       "\n",
       "    .dataframe thead th {\n",
       "        text-align: right;\n",
       "    }\n",
       "</style>\n",
       "<table border=\"1\" class=\"dataframe\">\n",
       "  <thead>\n",
       "    <tr style=\"text-align: right;\">\n",
       "      <th></th>\n",
       "      <th>Monetary</th>\n",
       "      <th>Frequency</th>\n",
       "      <th>factor_1</th>\n",
       "      <th>factor_2</th>\n",
       "      <th>factor_3</th>\n",
       "      <th>factor_4</th>\n",
       "      <th>cluster</th>\n",
       "    </tr>\n",
       "  </thead>\n",
       "  <tbody>\n",
       "    <tr>\n",
       "      <th>count</th>\n",
       "      <td>5293.000000</td>\n",
       "      <td>5293.000000</td>\n",
       "      <td>5293.000000</td>\n",
       "      <td>5293.000000</td>\n",
       "      <td>5293.000000</td>\n",
       "      <td>5293.000000</td>\n",
       "      <td>5293.0</td>\n",
       "    </tr>\n",
       "    <tr>\n",
       "      <th>mean</th>\n",
       "      <td>102.863433</td>\n",
       "      <td>3.308332</td>\n",
       "      <td>0.502569</td>\n",
       "      <td>0.504034</td>\n",
       "      <td>0.500953</td>\n",
       "      <td>0.499637</td>\n",
       "      <td>0.0</td>\n",
       "    </tr>\n",
       "    <tr>\n",
       "      <th>std</th>\n",
       "      <td>139.351266</td>\n",
       "      <td>3.798018</td>\n",
       "      <td>0.289077</td>\n",
       "      <td>0.289329</td>\n",
       "      <td>0.290489</td>\n",
       "      <td>0.288939</td>\n",
       "      <td>0.0</td>\n",
       "    </tr>\n",
       "    <tr>\n",
       "      <th>min</th>\n",
       "      <td>0.000000</td>\n",
       "      <td>1.000000</td>\n",
       "      <td>0.000000</td>\n",
       "      <td>0.000000</td>\n",
       "      <td>0.000037</td>\n",
       "      <td>0.000033</td>\n",
       "      <td>0.0</td>\n",
       "    </tr>\n",
       "    <tr>\n",
       "      <th>25%</th>\n",
       "      <td>20.020000</td>\n",
       "      <td>1.000000</td>\n",
       "      <td>0.260000</td>\n",
       "      <td>0.250000</td>\n",
       "      <td>0.245317</td>\n",
       "      <td>0.247794</td>\n",
       "      <td>0.0</td>\n",
       "    </tr>\n",
       "    <tr>\n",
       "      <th>50%</th>\n",
       "      <td>49.620000</td>\n",
       "      <td>2.000000</td>\n",
       "      <td>0.500000</td>\n",
       "      <td>0.510000</td>\n",
       "      <td>0.504281</td>\n",
       "      <td>0.497907</td>\n",
       "      <td>0.0</td>\n",
       "    </tr>\n",
       "    <tr>\n",
       "      <th>75%</th>\n",
       "      <td>125.000000</td>\n",
       "      <td>4.000000</td>\n",
       "      <td>0.750000</td>\n",
       "      <td>0.750000</td>\n",
       "      <td>0.751825</td>\n",
       "      <td>0.747295</td>\n",
       "      <td>0.0</td>\n",
       "    </tr>\n",
       "    <tr>\n",
       "      <th>max</th>\n",
       "      <td>1660.000000</td>\n",
       "      <td>57.000000</td>\n",
       "      <td>1.000000</td>\n",
       "      <td>1.000000</td>\n",
       "      <td>0.999996</td>\n",
       "      <td>0.999943</td>\n",
       "      <td>0.0</td>\n",
       "    </tr>\n",
       "  </tbody>\n",
       "</table>\n",
       "</div>"
      ],
      "text/plain": [
       "          Monetary    Frequency     factor_1     factor_2     factor_3  \\\n",
       "count  5293.000000  5293.000000  5293.000000  5293.000000  5293.000000   \n",
       "mean    102.863433     3.308332     0.502569     0.504034     0.500953   \n",
       "std     139.351266     3.798018     0.289077     0.289329     0.290489   \n",
       "min       0.000000     1.000000     0.000000     0.000000     0.000037   \n",
       "25%      20.020000     1.000000     0.260000     0.250000     0.245317   \n",
       "50%      49.620000     2.000000     0.500000     0.510000     0.504281   \n",
       "75%     125.000000     4.000000     0.750000     0.750000     0.751825   \n",
       "max    1660.000000    57.000000     1.000000     1.000000     0.999996   \n",
       "\n",
       "          factor_4  cluster  \n",
       "count  5293.000000   5293.0  \n",
       "mean      0.499637      0.0  \n",
       "std       0.288939      0.0  \n",
       "min       0.000033      0.0  \n",
       "25%       0.247794      0.0  \n",
       "50%       0.497907      0.0  \n",
       "75%       0.747295      0.0  \n",
       "max       0.999943      0.0  "
      ]
     },
     "execution_count": 33,
     "metadata": {},
     "output_type": "execute_result"
    }
   ],
   "source": [
    "data[data['cluster'] == 0].describe()"
   ]
  },
  {
   "cell_type": "code",
   "execution_count": 34,
   "metadata": {},
   "outputs": [
    {
     "data": {
      "text/html": [
       "<div>\n",
       "<style scoped>\n",
       "    .dataframe tbody tr th:only-of-type {\n",
       "        vertical-align: middle;\n",
       "    }\n",
       "\n",
       "    .dataframe tbody tr th {\n",
       "        vertical-align: top;\n",
       "    }\n",
       "\n",
       "    .dataframe thead th {\n",
       "        text-align: right;\n",
       "    }\n",
       "</style>\n",
       "<table border=\"1\" class=\"dataframe\">\n",
       "  <thead>\n",
       "    <tr style=\"text-align: right;\">\n",
       "      <th></th>\n",
       "      <th>Monetary</th>\n",
       "      <th>Frequency</th>\n",
       "      <th>factor_1</th>\n",
       "      <th>factor_2</th>\n",
       "      <th>factor_3</th>\n",
       "      <th>factor_4</th>\n",
       "      <th>cluster</th>\n",
       "    </tr>\n",
       "  </thead>\n",
       "  <tbody>\n",
       "    <tr>\n",
       "      <th>count</th>\n",
       "      <td>7914.000000</td>\n",
       "      <td>7914.000000</td>\n",
       "      <td>7914.000000</td>\n",
       "      <td>7914.000000</td>\n",
       "      <td>7914.000000</td>\n",
       "      <td>7914.000000</td>\n",
       "      <td>7914.0</td>\n",
       "    </tr>\n",
       "    <tr>\n",
       "      <th>mean</th>\n",
       "      <td>171.640430</td>\n",
       "      <td>5.058630</td>\n",
       "      <td>0.498361</td>\n",
       "      <td>0.497602</td>\n",
       "      <td>0.490971</td>\n",
       "      <td>0.498432</td>\n",
       "      <td>1.0</td>\n",
       "    </tr>\n",
       "    <tr>\n",
       "      <th>std</th>\n",
       "      <td>210.876316</td>\n",
       "      <td>6.305332</td>\n",
       "      <td>0.290586</td>\n",
       "      <td>0.292138</td>\n",
       "      <td>0.289178</td>\n",
       "      <td>0.287655</td>\n",
       "      <td>0.0</td>\n",
       "    </tr>\n",
       "    <tr>\n",
       "      <th>min</th>\n",
       "      <td>0.000000</td>\n",
       "      <td>1.000000</td>\n",
       "      <td>0.000000</td>\n",
       "      <td>0.000000</td>\n",
       "      <td>0.000136</td>\n",
       "      <td>0.000412</td>\n",
       "      <td>1.0</td>\n",
       "    </tr>\n",
       "    <tr>\n",
       "      <th>25%</th>\n",
       "      <td>30.020000</td>\n",
       "      <td>2.000000</td>\n",
       "      <td>0.250000</td>\n",
       "      <td>0.240000</td>\n",
       "      <td>0.238159</td>\n",
       "      <td>0.250508</td>\n",
       "      <td>1.0</td>\n",
       "    </tr>\n",
       "    <tr>\n",
       "      <th>50%</th>\n",
       "      <td>102.440000</td>\n",
       "      <td>3.000000</td>\n",
       "      <td>0.500000</td>\n",
       "      <td>0.500000</td>\n",
       "      <td>0.487622</td>\n",
       "      <td>0.500426</td>\n",
       "      <td>1.0</td>\n",
       "    </tr>\n",
       "    <tr>\n",
       "      <th>75%</th>\n",
       "      <td>238.570000</td>\n",
       "      <td>6.000000</td>\n",
       "      <td>0.750000</td>\n",
       "      <td>0.750000</td>\n",
       "      <td>0.740694</td>\n",
       "      <td>0.746548</td>\n",
       "      <td>1.0</td>\n",
       "    </tr>\n",
       "    <tr>\n",
       "      <th>max</th>\n",
       "      <td>3040.000000</td>\n",
       "      <td>111.000000</td>\n",
       "      <td>1.000000</td>\n",
       "      <td>1.000000</td>\n",
       "      <td>0.999923</td>\n",
       "      <td>0.999898</td>\n",
       "      <td>1.0</td>\n",
       "    </tr>\n",
       "  </tbody>\n",
       "</table>\n",
       "</div>"
      ],
      "text/plain": [
       "          Monetary    Frequency     factor_1     factor_2     factor_3  \\\n",
       "count  7914.000000  7914.000000  7914.000000  7914.000000  7914.000000   \n",
       "mean    171.640430     5.058630     0.498361     0.497602     0.490971   \n",
       "std     210.876316     6.305332     0.290586     0.292138     0.289178   \n",
       "min       0.000000     1.000000     0.000000     0.000000     0.000136   \n",
       "25%      30.020000     2.000000     0.250000     0.240000     0.238159   \n",
       "50%     102.440000     3.000000     0.500000     0.500000     0.487622   \n",
       "75%     238.570000     6.000000     0.750000     0.750000     0.740694   \n",
       "max    3040.000000   111.000000     1.000000     1.000000     0.999923   \n",
       "\n",
       "          factor_4  cluster  \n",
       "count  7914.000000   7914.0  \n",
       "mean      0.498432      1.0  \n",
       "std       0.287655      0.0  \n",
       "min       0.000412      1.0  \n",
       "25%       0.250508      1.0  \n",
       "50%       0.500426      1.0  \n",
       "75%       0.746548      1.0  \n",
       "max       0.999898      1.0  "
      ]
     },
     "execution_count": 34,
     "metadata": {},
     "output_type": "execute_result"
    }
   ],
   "source": [
    "data[data['cluster'] == 1].describe()"
   ]
  },
  {
   "cell_type": "code",
   "execution_count": 35,
   "metadata": {},
   "outputs": [
    {
     "data": {
      "text/html": [
       "<div>\n",
       "<style scoped>\n",
       "    .dataframe tbody tr th:only-of-type {\n",
       "        vertical-align: middle;\n",
       "    }\n",
       "\n",
       "    .dataframe tbody tr th {\n",
       "        vertical-align: top;\n",
       "    }\n",
       "\n",
       "    .dataframe thead th {\n",
       "        text-align: right;\n",
       "    }\n",
       "</style>\n",
       "<table border=\"1\" class=\"dataframe\">\n",
       "  <thead>\n",
       "    <tr style=\"text-align: right;\">\n",
       "      <th></th>\n",
       "      <th>Monetary</th>\n",
       "      <th>Frequency</th>\n",
       "      <th>factor_1</th>\n",
       "      <th>factor_2</th>\n",
       "      <th>factor_3</th>\n",
       "      <th>factor_4</th>\n",
       "      <th>cluster</th>\n",
       "    </tr>\n",
       "  </thead>\n",
       "  <tbody>\n",
       "    <tr>\n",
       "      <th>count</th>\n",
       "      <td>2793.000000</td>\n",
       "      <td>2793.000000</td>\n",
       "      <td>2793.000000</td>\n",
       "      <td>2793.000000</td>\n",
       "      <td>2793.000000</td>\n",
       "      <td>2793.000000</td>\n",
       "      <td>2793.0</td>\n",
       "    </tr>\n",
       "    <tr>\n",
       "      <th>mean</th>\n",
       "      <td>63.278808</td>\n",
       "      <td>2.028643</td>\n",
       "      <td>0.499821</td>\n",
       "      <td>0.486914</td>\n",
       "      <td>0.497716</td>\n",
       "      <td>0.496119</td>\n",
       "      <td>2.0</td>\n",
       "    </tr>\n",
       "    <tr>\n",
       "      <th>std</th>\n",
       "      <td>108.006846</td>\n",
       "      <td>2.523224</td>\n",
       "      <td>0.290977</td>\n",
       "      <td>0.291290</td>\n",
       "      <td>0.285741</td>\n",
       "      <td>0.290018</td>\n",
       "      <td>0.0</td>\n",
       "    </tr>\n",
       "    <tr>\n",
       "      <th>min</th>\n",
       "      <td>0.000000</td>\n",
       "      <td>1.000000</td>\n",
       "      <td>0.000000</td>\n",
       "      <td>0.000000</td>\n",
       "      <td>0.000176</td>\n",
       "      <td>0.000159</td>\n",
       "      <td>2.0</td>\n",
       "    </tr>\n",
       "    <tr>\n",
       "      <th>25%</th>\n",
       "      <td>13.420000</td>\n",
       "      <td>1.000000</td>\n",
       "      <td>0.250000</td>\n",
       "      <td>0.230000</td>\n",
       "      <td>0.245899</td>\n",
       "      <td>0.245991</td>\n",
       "      <td>2.0</td>\n",
       "    </tr>\n",
       "    <tr>\n",
       "      <th>50%</th>\n",
       "      <td>21.410000</td>\n",
       "      <td>1.000000</td>\n",
       "      <td>0.500000</td>\n",
       "      <td>0.490000</td>\n",
       "      <td>0.502857</td>\n",
       "      <td>0.495553</td>\n",
       "      <td>2.0</td>\n",
       "    </tr>\n",
       "    <tr>\n",
       "      <th>75%</th>\n",
       "      <td>60.010000</td>\n",
       "      <td>2.000000</td>\n",
       "      <td>0.750000</td>\n",
       "      <td>0.730000</td>\n",
       "      <td>0.738690</td>\n",
       "      <td>0.750300</td>\n",
       "      <td>2.0</td>\n",
       "    </tr>\n",
       "    <tr>\n",
       "      <th>max</th>\n",
       "      <td>1364.000000</td>\n",
       "      <td>61.000000</td>\n",
       "      <td>1.000000</td>\n",
       "      <td>1.000000</td>\n",
       "      <td>0.999992</td>\n",
       "      <td>0.999517</td>\n",
       "      <td>2.0</td>\n",
       "    </tr>\n",
       "  </tbody>\n",
       "</table>\n",
       "</div>"
      ],
      "text/plain": [
       "          Monetary    Frequency     factor_1     factor_2     factor_3  \\\n",
       "count  2793.000000  2793.000000  2793.000000  2793.000000  2793.000000   \n",
       "mean     63.278808     2.028643     0.499821     0.486914     0.497716   \n",
       "std     108.006846     2.523224     0.290977     0.291290     0.285741   \n",
       "min       0.000000     1.000000     0.000000     0.000000     0.000176   \n",
       "25%      13.420000     1.000000     0.250000     0.230000     0.245899   \n",
       "50%      21.410000     1.000000     0.500000     0.490000     0.502857   \n",
       "75%      60.010000     2.000000     0.750000     0.730000     0.738690   \n",
       "max    1364.000000    61.000000     1.000000     1.000000     0.999992   \n",
       "\n",
       "          factor_4  cluster  \n",
       "count  2793.000000   2793.0  \n",
       "mean      0.496119      2.0  \n",
       "std       0.290018      0.0  \n",
       "min       0.000159      2.0  \n",
       "25%       0.245991      2.0  \n",
       "50%       0.495553      2.0  \n",
       "75%       0.750300      2.0  \n",
       "max       0.999517      2.0  "
      ]
     },
     "execution_count": 35,
     "metadata": {},
     "output_type": "execute_result"
    }
   ],
   "source": [
    "data[data['cluster'] == 2].describe()"
   ]
  },
  {
   "cell_type": "markdown",
   "metadata": {},
   "source": [
    "Видим, что статистики признаков factor_1, factor_2, factor_3, factor_4 не отличаются друг от друга, поэтому я делаю вывод о том, что они все не значимы"
   ]
  },
  {
   "cell_type": "markdown",
   "metadata": {},
   "source": [
    "<b>Ответ</b>: factor_1, factor_2, factor_3, factor_4"
   ]
  },
  {
   "cell_type": "code",
   "execution_count": 39,
   "metadata": {},
   "outputs": [],
   "source": [
    "data_0 = data[data['cluster'] == 0]\n",
    "data_1 = data[data['cluster'] == 1]\n",
    "data_2 = data[data['cluster'] == 2]"
   ]
  },
  {
   "cell_type": "markdown",
   "metadata": {},
   "source": [
    "### Визуализация кластеров"
   ]
  },
  {
   "cell_type": "code",
   "execution_count": 59,
   "metadata": {},
   "outputs": [
    {
     "data": {
      "image/png": "[encoded data removed]",
      "text/plain": [
       "<Figure size 432x288 with 1 Axes>"
      ]
     },
     "metadata": {
      "needs_background": "light"
     },
     "output_type": "display_data"
    },
    {
     "data": {
      "image/png": "[encoded data removed]",
      "text/plain": [
       "<Figure size 432x288 with 1 Axes>"
      ]
     },
     "metadata": {
      "needs_background": "light"
     },
     "output_type": "display_data"
    },
    {
     "data": {
      "image/png": "[encoded data removed]",
      "text/plain": [
       "<Figure size 432x288 with 1 Axes>"
      ]
     },
     "metadata": {
      "needs_background": "light"
     },
     "output_type": "display_data"
    }
   ],
   "source": [
    "for idx, cluster in enumerate([data_0, data_1, data_2]):\n",
    "    plt.title(f'Кластер №{idx+1}\\nКоличество значений: {cluster.shape[0]}')\n",
    "    \n",
    "    plt.xlim(0, 3000)\n",
    "    plt.ylim(0, 100)\n",
    "    \n",
    "    plt.xlabel('Monetary')\n",
    "    plt.ylabel('Frequency')\n",
    "    plt.scatter(x=cluster['Monetary'], y=cluster['Frequency'])\n",
    "    plt.show()"
   ]
  },
  {
   "cell_type": "markdown",
   "metadata": {},
   "source": [
    "На основе имеющихся данных можно сделать такой вывод:\n",
    "В первом кластере платежи за март и апрель\n",
    "\n",
    "1. Кластер №3 - неактивные пользователи (в основном платежи на январь и февраль, платежей мало)\n",
    "2. Кластер №2 и №1 - похожие пользователи, только в кластере #2 пользователи совершали платёж совсем недавно - в июне, а в первом за март и апрель, и в кластере №2 разброс гораздо выше\n",
    "\n",
    "Скорее всего, имеет смысл разбить данные аккуратнее, соединить второй и первый кластер вместе, а выбросы - в отдельный кластер\n",
    "\n",
    "\n",
    "Тогда получится 3 кластера активных пользователей, неактивных пользователей, и активных пользователей, от которых приходит сущетвенная доля объёма средств."
   ]
  }
 ],
 "metadata": {
  "kernelspec": {
   "display_name": "Python 3",
   "language": "python",
   "name": "python3"
  },
  "language_info": {
   "codemirror_mode": {
    "name": "ipython",
    "version": 3
   },
   "file_extension": ".py",
   "mimetype": "text/x-python",
   "name": "python",
   "nbconvert_exporter": "python",
   "pygments_lexer": "ipython3",
   "version": "3.6.1"
  }
 },
 "nbformat": 4,
 "nbformat_minor": 2
}
